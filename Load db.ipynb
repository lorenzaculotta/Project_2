{
 "cells": [
  {
   "cell_type": "code",
   "execution_count": 5,
   "metadata": {},
   "outputs": [],
   "source": [
    "import pandas as pd\n",
    "from sqlalchemy import create_engine"
   ]
  },
  {
   "cell_type": "code",
   "execution_count": 13,
   "metadata": {},
   "outputs": [],
   "source": [
    "#Open zillow home values, school data and merged files\n",
    "homevalues_cook_2019_df=pd.read_csv(\"Resources\\Data\\clean_homevalue_2019.csv\").drop([\"Unnamed: 0\"], axis=1)\n",
    "schools_data_df= pd.read_csv(\"Resources\\Data\\cleaned_schools_data.csv\").drop([\"Unnamed: 0\"], axis=1)\n",
    "merged_df= pd.read_csv(\"Resources\\Data\\Schools_data_homevalue_merged.csv\").drop([\"Unnamed: 0\"], axis=1)"
   ]
  },
  {
   "cell_type": "code",
   "execution_count": 53,
   "metadata": {},
   "outputs": [
    {
     "data": {
      "text/html": [
       "<div>\n",
       "<style scoped>\n",
       "    .dataframe tbody tr th:only-of-type {\n",
       "        vertical-align: middle;\n",
       "    }\n",
       "\n",
       "    .dataframe tbody tr th {\n",
       "        vertical-align: top;\n",
       "    }\n",
       "\n",
       "    .dataframe thead th {\n",
       "        text-align: right;\n",
       "    }\n",
       "</style>\n",
       "<table border=\"1\" class=\"dataframe\">\n",
       "  <thead>\n",
       "    <tr style=\"text-align: right;\">\n",
       "      <th></th>\n",
       "      <th>RCDTS</th>\n",
       "      <th>School Name</th>\n",
       "      <th>School Type</th>\n",
       "      <th>County</th>\n",
       "      <th># Student Enrollment</th>\n",
       "      <th>Perc Student Enrollment - Low Income</th>\n",
       "      <th>Student Attendance Rate</th>\n",
       "      <th>$ Site-level PEr-Pupil Expenditures - Subtotal</th>\n",
       "      <th>$ District Centralized Per-Pupil Expenditure - Subtotal</th>\n",
       "      <th>$ Total Per-Pupil Expenditures - Subtotal</th>\n",
       "      <th>SAT Reading Average</th>\n",
       "      <th>SAT Math Average</th>\n",
       "      <th>Address</th>\n",
       "      <th>City</th>\n",
       "      <th>CountyName</th>\n",
       "      <th>RecType</th>\n",
       "      <th>Zip</th>\n",
       "      <th>Lat</th>\n",
       "      <th>Lng</th>\n",
       "    </tr>\n",
       "  </thead>\n",
       "  <tbody>\n",
       "    <tr>\n",
       "      <th>0</th>\n",
       "      <td>50162020170001</td>\n",
       "      <td>Evanston Twp High School</td>\n",
       "      <td>HIGH SCHOOL</td>\n",
       "      <td>Cook</td>\n",
       "      <td>3514</td>\n",
       "      <td>36.5</td>\n",
       "      <td>91.5</td>\n",
       "      <td>20271.00</td>\n",
       "      <td>1949.00</td>\n",
       "      <td>22220.00</td>\n",
       "      <td>540.1</td>\n",
       "      <td>540.7</td>\n",
       "      <td>1600 Dodge Ave</td>\n",
       "      <td>Evanston</td>\n",
       "      <td>Cook</td>\n",
       "      <td>Sch</td>\n",
       "      <td>60201</td>\n",
       "      <td>42.047544</td>\n",
       "      <td>-87.699769</td>\n",
       "    </tr>\n",
       "    <tr>\n",
       "      <th>1</th>\n",
       "      <td>50162030170001</td>\n",
       "      <td>New Trier Township H S Winnetka</td>\n",
       "      <td>HIGH SCHOOL</td>\n",
       "      <td>Cook</td>\n",
       "      <td>2963</td>\n",
       "      <td>4.2</td>\n",
       "      <td>94.9</td>\n",
       "      <td>22428.80</td>\n",
       "      <td>3076.44</td>\n",
       "      <td>25505.24</td>\n",
       "      <td>611.9</td>\n",
       "      <td>627.6</td>\n",
       "      <td>385 Winnetka Ave</td>\n",
       "      <td>Winnetka</td>\n",
       "      <td>Cook</td>\n",
       "      <td>Sch</td>\n",
       "      <td>60093</td>\n",
       "      <td>42.094380</td>\n",
       "      <td>-87.719263</td>\n",
       "    </tr>\n",
       "    <tr>\n",
       "      <th>2</th>\n",
       "      <td>50162030170002</td>\n",
       "      <td>New Trier Township H S Northfield</td>\n",
       "      <td>HIGH SCHOOL</td>\n",
       "      <td>Cook</td>\n",
       "      <td>1015</td>\n",
       "      <td>2.6</td>\n",
       "      <td>96.2</td>\n",
       "      <td>22281.03</td>\n",
       "      <td>3076.44</td>\n",
       "      <td>25357.47</td>\n",
       "      <td>NaN</td>\n",
       "      <td>NaN</td>\n",
       "      <td>7 Happ Rd</td>\n",
       "      <td>Northfield</td>\n",
       "      <td>Cook</td>\n",
       "      <td>Sch</td>\n",
       "      <td>60093</td>\n",
       "      <td>42.094887</td>\n",
       "      <td>-87.766762</td>\n",
       "    </tr>\n",
       "    <tr>\n",
       "      <th>3</th>\n",
       "      <td>50162070170001</td>\n",
       "      <td>Maine East High School</td>\n",
       "      <td>HIGH SCHOOL</td>\n",
       "      <td>Cook</td>\n",
       "      <td>1852</td>\n",
       "      <td>41.6</td>\n",
       "      <td>91.9</td>\n",
       "      <td>13382.03</td>\n",
       "      <td>5994.55</td>\n",
       "      <td>19376.58</td>\n",
       "      <td>491.2</td>\n",
       "      <td>497.3</td>\n",
       "      <td>2601 Dempster St</td>\n",
       "      <td>Park Ridge</td>\n",
       "      <td>Cook</td>\n",
       "      <td>Sch</td>\n",
       "      <td>60068</td>\n",
       "      <td>42.037380</td>\n",
       "      <td>-87.857584</td>\n",
       "    </tr>\n",
       "    <tr>\n",
       "      <th>4</th>\n",
       "      <td>50162070170003</td>\n",
       "      <td>Maine South High School</td>\n",
       "      <td>HIGH SCHOOL</td>\n",
       "      <td>Cook</td>\n",
       "      <td>2391</td>\n",
       "      <td>6.4</td>\n",
       "      <td>93.8</td>\n",
       "      <td>12801.70</td>\n",
       "      <td>5919.13</td>\n",
       "      <td>18720.83</td>\n",
       "      <td>559.6</td>\n",
       "      <td>577.8</td>\n",
       "      <td>1111 S Dee Rd</td>\n",
       "      <td>Park Ridge</td>\n",
       "      <td>Cook</td>\n",
       "      <td>Sch</td>\n",
       "      <td>60068</td>\n",
       "      <td>42.001374</td>\n",
       "      <td>-87.852285</td>\n",
       "    </tr>\n",
       "  </tbody>\n",
       "</table>\n",
       "</div>"
      ],
      "text/plain": [
       "            RCDTS                        School Name  School Type County  \\\n",
       "0  50162020170001           Evanston Twp High School  HIGH SCHOOL   Cook   \n",
       "1  50162030170001    New Trier Township H S Winnetka  HIGH SCHOOL   Cook   \n",
       "2  50162030170002  New Trier Township H S Northfield  HIGH SCHOOL   Cook   \n",
       "3  50162070170001             Maine East High School  HIGH SCHOOL   Cook   \n",
       "4  50162070170003            Maine South High School  HIGH SCHOOL   Cook   \n",
       "\n",
       "   # Student Enrollment  Perc Student Enrollment - Low Income  \\\n",
       "0                  3514                                  36.5   \n",
       "1                  2963                                   4.2   \n",
       "2                  1015                                   2.6   \n",
       "3                  1852                                  41.6   \n",
       "4                  2391                                   6.4   \n",
       "\n",
       "   Student Attendance Rate  $ Site-level PEr-Pupil Expenditures - Subtotal  \\\n",
       "0                     91.5                                        20271.00   \n",
       "1                     94.9                                        22428.80   \n",
       "2                     96.2                                        22281.03   \n",
       "3                     91.9                                        13382.03   \n",
       "4                     93.8                                        12801.70   \n",
       "\n",
       "   $ District Centralized Per-Pupil Expenditure - Subtotal  \\\n",
       "0                                            1949.00         \n",
       "1                                            3076.44         \n",
       "2                                            3076.44         \n",
       "3                                            5994.55         \n",
       "4                                            5919.13         \n",
       "\n",
       "   $ Total Per-Pupil Expenditures - Subtotal  SAT Reading Average  \\\n",
       "0                                   22220.00                540.1   \n",
       "1                                   25505.24                611.9   \n",
       "2                                   25357.47                  NaN   \n",
       "3                                   19376.58                491.2   \n",
       "4                                   18720.83                559.6   \n",
       "\n",
       "   SAT Math Average           Address        City CountyName RecType    Zip  \\\n",
       "0             540.7    1600 Dodge Ave    Evanston       Cook     Sch  60201   \n",
       "1             627.6  385 Winnetka Ave    Winnetka       Cook     Sch  60093   \n",
       "2               NaN         7 Happ Rd  Northfield       Cook     Sch  60093   \n",
       "3             497.3  2601 Dempster St  Park Ridge       Cook     Sch  60068   \n",
       "4             577.8     1111 S Dee Rd  Park Ridge       Cook     Sch  60068   \n",
       "\n",
       "         Lat        Lng  \n",
       "0  42.047544 -87.699769  \n",
       "1  42.094380 -87.719263  \n",
       "2  42.094887 -87.766762  \n",
       "3  42.037380 -87.857584  \n",
       "4  42.001374 -87.852285  "
      ]
     },
     "execution_count": 53,
     "metadata": {},
     "output_type": "execute_result"
    }
   ],
   "source": [
    "# Rename Columns with % to avoid running into errors with SQL\n",
    "schools_data_df.rename(columns={\"% Student Enrollment - Low Income\": \"Perc Student Enrollment - Low Income\"}, inplace=True)\n",
    "schools_data_df.head()"
   ]
  },
  {
   "cell_type": "code",
   "execution_count": 54,
   "metadata": {
    "scrolled": true
   },
   "outputs": [],
   "source": [
    "# Rename Columns with % to avoid running into errors with SQL\n",
    "merged_df.rename(columns={\"% Student Enrollment - Low Income\": \"Perc Student Enrollment - Low Income\"}, inplace=True)\n",
    "merged_df.head()"
   ]
  },
  {
   "cell_type": "markdown",
   "metadata": {},
   "source": [
    "### Create database connection"
   ]
  },
  {
   "cell_type": "code",
   "execution_count": 20,
   "metadata": {},
   "outputs": [],
   "source": [
    "connection_string = \"postgres:postgres@localhost:5432/Project 2\"\n",
    "engine = create_engine(f'postgresql://{connection_string}')"
   ]
  },
  {
   "cell_type": "code",
   "execution_count": 21,
   "metadata": {},
   "outputs": [
    {
     "data": {
      "text/plain": [
       "['schools', 'homevalues', 'schools_homevalues']"
      ]
     },
     "execution_count": 21,
     "metadata": {},
     "output_type": "execute_result"
    }
   ],
   "source": [
    "# Confirm tables\n",
    "engine.table_names()"
   ]
  },
  {
   "cell_type": "markdown",
   "metadata": {},
   "source": [
    "### Load DataFrames into database"
   ]
  },
  {
   "cell_type": "code",
   "execution_count": 38,
   "metadata": {},
   "outputs": [],
   "source": [
    "homevalues_cook_2019_df.to_sql(name='homevalues', con=engine, if_exists='append', index=False)"
   ]
  },
  {
   "cell_type": "code",
   "execution_count": 45,
   "metadata": {},
   "outputs": [],
   "source": [
    "schools_data_df.to_sql(name='schools', con=engine, if_exists='append', index=False)"
   ]
  },
  {
   "cell_type": "code",
   "execution_count": 55,
   "metadata": {},
   "outputs": [],
   "source": [
    "merged_df.to_sql(name='schools_homevalues', con=engine, if_exists='append', index=False)"
   ]
  },
  {
   "cell_type": "code",
   "execution_count": null,
   "metadata": {},
   "outputs": [],
   "source": []
  }
 ],
 "metadata": {
  "kernelspec": {
   "display_name": "Python 3",
   "language": "python",
   "name": "python3"
  },
  "language_info": {
   "codemirror_mode": {
    "name": "ipython",
    "version": 3
   },
   "file_extension": ".py",
   "mimetype": "text/x-python",
   "name": "python",
   "nbconvert_exporter": "python",
   "pygments_lexer": "ipython3",
   "version": "3.7.6"
  }
 },
 "nbformat": 4,
 "nbformat_minor": 4
}
